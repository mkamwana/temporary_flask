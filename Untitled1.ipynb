{
 "cells": [
  {
   "cell_type": "code",
   "execution_count": 9,
   "id": "6a885f30",
   "metadata": {},
   "outputs": [
    {
     "name": "stdout",
     "output_type": "stream",
     "text": [
      "2023-05-24 13:04:05,768 INFO sqlalchemy.engine.Engine BEGIN (implicit)\n",
      "2023-05-24 13:04:05,769 INFO sqlalchemy.engine.Engine COMMIT\n"
     ]
    }
   ],
   "source": [
    "import sqlite3\n",
    "from sqlalchemy import create_engine, text\n",
    "from sqlalchemy.ext.declarative import declarative_base\n",
    "from sqlalchemy import Column, String, Float, Integer\n",
    "from sqlalchemy.orm import Session\n",
    "\n",
    "#conn=engine.connect()\n",
    "Base = declarative_base()\n",
    "engine = create_engine (\"sqlite:///./test_database.sqlite3\", echo=True, future=True)\n",
    "Base.metadata.create_all(engine)"
   ]
  },
  {
   "cell_type": "code",
   "execution_count": 10,
   "id": "d6ad67df",
   "metadata": {},
   "outputs": [
    {
     "data": {
      "text/plain": [
       "<sqlalchemy.orm.session.Session at 0x19aa04b9910>"
      ]
     },
     "execution_count": 10,
     "metadata": {},
     "output_type": "execute_result"
    }
   ],
   "source": [
    "session = Session(bind=engine)\n",
    "session"
   ]
  },
  {
   "cell_type": "code",
   "execution_count": 13,
   "id": "388b3d5e",
   "metadata": {},
   "outputs": [
    {
     "name": "stdout",
     "output_type": "stream",
     "text": [
      "2023-05-24 13:31:36,610 INFO sqlalchemy.engine.Engine BEGIN (implicit)\n",
      "2023-05-24 13:31:36,611 INFO sqlalchemy.engine.Engine SELECT *FROM clean_df;\n",
      "2023-05-24 13:31:36,613 INFO sqlalchemy.engine.Engine [cached since 64.71s ago] ()\n",
      "2023-05-24 13:31:37,066 INFO sqlalchemy.engine.Engine ROLLBACK\n"
     ]
    }
   ],
   "source": [
    "sql= '''SELECT *FROM clean_df;'''\n",
    "with engine.connect() as conn:\n",
    "    query=conn.execute(text(sql))\n",
    "    clean_data=query.fetchall()\n",
    "   "
   ]
  },
  {
   "cell_type": "code",
   "execution_count": null,
   "id": "154d0762",
   "metadata": {},
   "outputs": [],
   "source": []
  }
 ],
 "metadata": {
  "kernelspec": {
   "display_name": "Python 3 (ipykernel)",
   "language": "python",
   "name": "python3"
  },
  "language_info": {
   "codemirror_mode": {
    "name": "ipython",
    "version": 3
   },
   "file_extension": ".py",
   "mimetype": "text/x-python",
   "name": "python",
   "nbconvert_exporter": "python",
   "pygments_lexer": "ipython3",
   "version": "3.9.13"
  }
 },
 "nbformat": 4,
 "nbformat_minor": 5
}
